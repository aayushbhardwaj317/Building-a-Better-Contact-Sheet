{
  "nbformat": 4,
  "nbformat_minor": 0,
  "metadata": {
    "colab": {
      "name": "Dia of 6.ipynb",
      "provenance": [],
      "collapsed_sections": [],
      "include_colab_link": true
    },
    "kernelspec": {
      "name": "python3",
      "display_name": "Python 3"
    },
    "language_info": {
      "name": "python"
    }
  },
  "cells": [
    {
      "cell_type": "markdown",
      "metadata": {
        "id": "view-in-github",
        "colab_type": "text"
      },
      "source": [
        "<a href=\"https://colab.research.google.com/github/aayushbhardwaj317/Building-a-Better-Contact-Sheet/blob/master/Dia_of_6.ipynb\" target=\"_parent\"><img src=\"https://colab.research.google.com/assets/colab-badge.svg\" alt=\"Open In Colab\"/></a>"
      ]
    },
    {
      "cell_type": "code",
      "source": [
        ""
      ],
      "metadata": {
        "id": "0aH5yWDmmjED"
      },
      "execution_count": null,
      "outputs": []
    },
    {
      "cell_type": "code",
      "source": [
        "import numpy as np\n",
        "import matplotlib.pyplot as plt"
      ],
      "metadata": {
        "id": "G8UYS3Kemdbp"
      },
      "execution_count": null,
      "outputs": []
    },
    {
      "cell_type": "markdown",
      "source": [
        "***Position of sensors in Real world frame of reference***"
      ],
      "metadata": {
        "id": "QHXzZfeyhpHA"
      }
    },
    {
      "cell_type": "code",
      "source": [
        "sensor_P=5\n",
        "sensor_Q=5\n",
        "sensor_R=5\n",
        "sensor_S=5"
      ],
      "metadata": {
        "id": "-9m30hLuXICr"
      },
      "execution_count": null,
      "outputs": []
    },
    {
      "cell_type": "markdown",
      "source": [
        "***Frame dimension***"
      ],
      "metadata": {
        "id": "JsgyxTNbh-iw"
      }
    },
    {
      "cell_type": "code",
      "source": [
        "Length=10\n",
        "Breadth=10"
      ],
      "metadata": {
        "id": "ozejpft8XUbf"
      },
      "execution_count": null,
      "outputs": []
    },
    {
      "cell_type": "markdown",
      "source": [
        "***Sensor measured values***"
      ],
      "metadata": {
        "id": "iNmmx0LRiUTf"
      }
    },
    {
      "cell_type": "code",
      "execution_count": null,
      "metadata": {
        "colab": {
          "base_uri": "https://localhost:8080/"
        },
        "id": "IqCUes6ZfNHt",
        "outputId": "1226f833-32fa-4d9c-d090-1280574a4bdf"
      },
      "outputs": [
        {
          "output_type": "stream",
          "name": "stdout",
          "text": [
            "Enter the total set of values1\n",
            "Enter Values of alpha 2,0\n",
            "Enter Values of beta 2,0\n",
            "Enter Values of delta 2,0\n",
            "Enter Values of gamma 2,0\n",
            "[[[2.0, 0.0], [2.0, 0.0], [2.0, 0.0], [2.0, 0.0]]]\n"
          ]
        }
      ],
      "source": [
        "N=int(input('Enter the total set of values'))\n",
        "L=[]\n",
        "for i in range(0,N):\n",
        "  a=input(\"Enter Values of alpha \")\n",
        "  a = list(float(x) for x in a.split(\",\"))\n",
        "  b=input(\"Enter Values of beta \")\n",
        "  b = list(float(x) for x in b.split(\",\"))\n",
        "  d=input(\"Enter Values of delta \")\n",
        "  d = list(float(x) for x in d.split(\",\"))\n",
        "  y=input(\"Enter Values of gamma \")\n",
        "  y = list(float(x) for x in y.split(\",\"))\n",
        "  L.append([a,b,d,y])\n",
        "print(L)"
      ]
    },
    {
      "cell_type": "code",
      "source": [
        "for i in range(0,N):\n",
        "  L[i][0][1]=L[i][0][0]\n",
        "  L[i][0][0]=sensor_P\n",
        "  L[i][1][0]=Length-L[i][1][0]\n",
        "  L[i][1][1]=sensor_Q\n",
        "  L[i][2][1]=Breadth-L[i][2][0]\n",
        "  L[i][2][0]=sensor_R\n",
        "  L[i][3][0]=L[i][3][0]\n",
        "  L[i][3][1]=sensor_S\n"
      ],
      "metadata": {
        "id": "N_QsyY5cXkHy"
      },
      "execution_count": null,
      "outputs": []
    },
    {
      "cell_type": "code",
      "source": [
        "print(\"Incident beam position\",L)"
      ],
      "metadata": {
        "colab": {
          "base_uri": "https://localhost:8080/"
        },
        "id": "kv9t_OE3DsIt",
        "outputId": "5511b356-0a2c-46c0-9e89-e396cc214fd1"
      },
      "execution_count": null,
      "outputs": [
        {
          "output_type": "stream",
          "name": "stdout",
          "text": [
            "Incident beam position [[[5, 2.0], [8.0, 5], [5, 8.0], [2.0, 5]]]\n"
          ]
        }
      ]
    },
    {
      "cell_type": "code",
      "source": [
        "def D1(abdy):\n",
        "   LL,DL=[],[]\n",
        "   x1,y1=abdy[0][0],abdy[0][1]\n",
        "   x2,y2=abdy[1][0],abdy[1][1]\n",
        "   x3,y3=abdy[2][0],abdy[2][1]\n",
        "   A=np.array([[2*x1,2*y1,1],[2*x2,2*y2,1],[2*x3,2*y3,1]])\n",
        "   B=np.array([[-(x1**2)-(y1**2)],[-(x2**2)-(y2**2)],[-(x3**2)-(y3**2)]])\n",
        "   invA=np.linalg.inv(A)\n",
        "   X=np.matmul(invA,B)\n",
        "   g,f,c=X[0],X[1],X[2]\n",
        "   dia=2*((g**2 + f**2 -c)**0.5)\n",
        "   x,y=abdy[3][0],abdy[3][1]\n",
        "   if (x**2 + y**2 + 2*g*x + 2*f*y + c)>=0:\n",
        "     offset=1\n",
        "   else:\n",
        "     offset=-1\n",
        "   return dia,offset,g,f\n",
        "def D2(abdy):\n",
        "  LL,DL=[],[]\n",
        "  x1,y1=abdy[1][0],abdy[1][1]\n",
        "  x2,y2=abdy[2][0],abdy[2][1]\n",
        "  x3,y3=abdy[3][0],abdy[3][1]\n",
        "  A=np.array([[2*x1,2*y1,1],[2*x2,2*y2,1],[2*x3,2*y3,1]])\n",
        "  B=np.array([[-(x1**2)-(y1**2)],[-(x2**2)-(y2**2)],[-(x3**2)-(y3**2)]])\n",
        "  invA=np.linalg.inv(A)\n",
        "  X=np.matmul(invA,B)\n",
        "  g,f,c=X[0],X[1],X[2]\n",
        "  dia=2*((g**2 + f**2 -c)**0.5)\n",
        "  x,y=abdy[0][0],abdy[0][1]\n",
        "  if (x**2 + y**2 + 2*g*x + 2*f*y + c)>=0:\n",
        "    offset=1\n",
        "  else:\n",
        "    offset=-1\n",
        "  return dia,offset,g,f\n",
        "def D3(abdy):\n",
        "  LL,DL=[],[]\n",
        "  x1,y1=abdy[2][0],abdy[2][1]\n",
        "  x2,y2=abdy[3][0],abdy[3][1]\n",
        "  x3,y3=abdy[0][0],abdy[0][1]\n",
        "  A=np.array([[2*x1,2*y1,1],[2*x2,2*y2,1],[2*x3,2*y3,1]])\n",
        "  B=np.array([[-(x1**2)-(y1**2)],[-(x2**2)-(y2**2)],[-(x3**2)-(y3**2)]])\n",
        "  invA=np.linalg.inv(A)\n",
        "  X=np.matmul(invA,B)\n",
        "  g,f,c=X[0],X[1],X[2]\n",
        "  dia=2*((g**2 + f**2 -c)**0.5)\n",
        "  x,y=abdy[1][0],abdy[1][1]\n",
        "  if (x**2 + y**2 + 2*g*x + 2*f*y + c)>=0:\n",
        "    offset=1\n",
        "  else:\n",
        "    offset=-1\n",
        "  return dia,offset,g,f\n",
        "def D4(abdy):\n",
        "  LL,DL=[],[]\n",
        "  x1,y1=abdy[3][0],abdy[3][1]\n",
        "  x2,y2=abdy[0][0],abdy[0][1]\n",
        "  x3,y3=abdy[1][0],abdy[1][1]\n",
        "  A=np.array([[2*x1,2*y1,1],[2*x2,2*y2,1],[2*x3,2*y3,1]])\n",
        "  B=np.array([[-(x1**2)-(y1**2)],[-(x2**2)-(y2**2)],[-(x3**2)-(y3**2)]])\n",
        "  invA=np.linalg.inv(A)\n",
        "  X=np.matmul(invA,B)\n",
        "  g,f,c=X[0],X[1],X[2]\n",
        "  dia=2*((g**2 + f**2 -c)**0.5)\n",
        "  x,y=abdy[2][0],abdy[2][1]\n",
        "  if (x**2 + y**2 + 2*g*x + 2*f*y + c)>=0:\n",
        "    offset=1\n",
        "  else:\n",
        "    offset=-1\n",
        "  return dia,offset,g,f"
      ],
      "metadata": {
        "id": "oNFryOWOlN0h"
      },
      "execution_count": null,
      "outputs": []
    },
    {
      "cell_type": "code",
      "source": [
        "DIA=[]\n",
        "LAM=[]\n",
        "OFF=[]\n",
        "x_center=[]\n",
        "y_center=[]\n",
        "for i in range(0,len(L)):\n",
        "  d1,off1,x1,y1=D1(L[i])[0],D1(L[i])[1],D1(L[i])[2],D1(L[i])[3]\n",
        "  d2,off2,x2,y2=D2(L[i])[0],D2(L[i])[1],D2(L[i])[2],D2(L[i])[3]\n",
        "  d3,off3,x3,y3=D3(L[i])[0],D3(L[i])[1],D3(L[i])[2],D3(L[i])[3]\n",
        "  d4,off4,x4,y4=D4(L[i])[0],D4(L[i])[1],D4(L[i])[2],D4(L[i])[3]\n",
        "  DIA.append(list(d1))\n",
        "  DIA.append(list(d2))\n",
        "  DIA.append(list(d3))\n",
        "  DIA.append(list(d4))\n",
        "  OFF.append(off1)\n",
        "  OFF.append(off2)\n",
        "  OFF.append(off3)\n",
        "  OFF.append(off4)\n",
        "  x_center.append(list(-x1))\n",
        "  x_center.append(list(-x2))\n",
        "  x_center.append(list(-x3))\n",
        "  x_center.append(list(-x4))\n",
        "  y_center.append(list(-y1))\n",
        "  y_center.append(list(-y2))\n",
        "  y_center.append(list(-y3))\n",
        "  y_center.append(list(-y4))\n",
        "  LAM.append(L[i][3])\n",
        "  LAM.append(L[i][0])\n",
        "  LAM.append(L[i][1])\n",
        "  LAM.append(L[i][2])\n",
        "#"
      ],
      "metadata": {
        "id": "VIRAX7tblWU5"
      },
      "execution_count": null,
      "outputs": []
    },
    {
      "cell_type": "code",
      "source": [
        "DIA"
      ],
      "metadata": {
        "colab": {
          "base_uri": "https://localhost:8080/"
        },
        "id": "phSKFQp7HwhZ",
        "outputId": "bd6f610e-85e9-4cfe-c804-f66c1da8af61"
      },
      "execution_count": null,
      "outputs": [
        {
          "output_type": "execute_result",
          "data": {
            "text/plain": [
              "[[6.000000000000004],\n",
              " [6.000000000000004],\n",
              " [6.000000000000004],\n",
              " [6.000000000000003]]"
            ]
          },
          "metadata": {},
          "execution_count": 128
        }
      ]
    },
    {
      "cell_type": "code",
      "source": [
        "LAM"
      ],
      "metadata": {
        "colab": {
          "base_uri": "https://localhost:8080/"
        },
        "id": "ZN0XRc7_JWkz",
        "outputId": "674de0b8-f831-4c84-84a4-9f7635b85f98"
      },
      "execution_count": null,
      "outputs": [
        {
          "output_type": "execute_result",
          "data": {
            "text/plain": [
              "[[2.0, 5], [5, 2.0], [8.0, 5], [5, 8.0]]"
            ]
          },
          "metadata": {},
          "execution_count": 129
        }
      ]
    },
    {
      "cell_type": "code",
      "source": [
        "OFF"
      ],
      "metadata": {
        "colab": {
          "base_uri": "https://localhost:8080/"
        },
        "id": "rNNavkPgJcGT",
        "outputId": "fb290121-2f1a-4a10-ece5-dd46668e5a17"
      },
      "execution_count": null,
      "outputs": [
        {
          "output_type": "execute_result",
          "data": {
            "text/plain": [
              "[1, -1, -1, -1]"
            ]
          },
          "metadata": {},
          "execution_count": 130
        }
      ]
    },
    {
      "cell_type": "code",
      "source": [
        "x_center"
      ],
      "metadata": {
        "colab": {
          "base_uri": "https://localhost:8080/"
        },
        "id": "bEArGZRbNpMa",
        "outputId": "8284de55-ff44-4f90-f2d9-8ce14083d5cc"
      },
      "execution_count": null,
      "outputs": [
        {
          "output_type": "execute_result",
          "data": {
            "text/plain": [
              "[[5.0000000000000036], [5.0], [5.000000000000003], [5.000000000000002]]"
            ]
          },
          "metadata": {},
          "execution_count": 131
        }
      ]
    },
    {
      "cell_type": "code",
      "source": [
        "y_center"
      ],
      "metadata": {
        "colab": {
          "base_uri": "https://localhost:8080/"
        },
        "id": "oU9z5OciO-ik",
        "outputId": "78319f2a-4984-4b74-9f27-0220e7797e86"
      },
      "execution_count": null,
      "outputs": [
        {
          "output_type": "execute_result",
          "data": {
            "text/plain": [
              "[[5.0], [5.0], [5.0], [5.0]]"
            ]
          },
          "metadata": {},
          "execution_count": 132
        }
      ]
    },
    {
      "cell_type": "code",
      "source": [
        "arrx = np.array(x_center)\n",
        "arry = np.array(y_center)\n",
        "\n",
        "lisx = arrx.tolist()\n",
        "lisy = arry.tolist()\n",
        "cex = lisx[1]\n",
        "cey = lisy[1]\n",
        "valcex = cex[0]\n",
        "valcey = cey[0]\n",
        "print(valcey)"
      ],
      "metadata": {
        "id": "kN2O0SUorvkk",
        "outputId": "784014c2-f693-4c3a-e62d-55863c32b318",
        "colab": {
          "base_uri": "https://localhost:8080/"
        }
      },
      "execution_count": null,
      "outputs": [
        {
          "output_type": "stream",
          "name": "stdout",
          "text": [
            "5.0\n"
          ]
        }
      ]
    },
    {
      "cell_type": "code",
      "source": [
        "def lamb_dist(x,y,lambd,d):\n",
        "  dist=abs((((x-lambd[0])**2 + (y-lambd[1])**2) ** 0.5) - (d/2))\n",
        "  return dist"
      ],
      "metadata": {
        "id": "P2WWGag2Qw05"
      },
      "execution_count": null,
      "outputs": []
    },
    {
      "cell_type": "code",
      "source": [
        "for i in range(0,len(OFF)):\n",
        "  dis=lamb_dist(x_center[i][0],y_center[i][0],LAM[i],DIA[i][0])\n",
        "  if OFF[i]==1:\n",
        "    DIA[i][0]=DIA[i][0]+dis\n",
        "  else:\n",
        "    DIA[i][0]=DIA[i][0]-dis\n"
      ],
      "metadata": {
        "id": "XWWlXG9zPfea"
      },
      "execution_count": null,
      "outputs": []
    },
    {
      "cell_type": "code",
      "source": [
        "DIA"
      ],
      "metadata": {
        "colab": {
          "base_uri": "https://localhost:8080/"
        },
        "id": "02p5WwFOS-Gq",
        "outputId": "fe64f174-0a57-4832-d205-737ba9ea8177"
      },
      "execution_count": null,
      "outputs": [
        {
          "output_type": "execute_result",
          "data": {
            "text/plain": [
              "[[6.000000000000006],\n",
              " [6.000000000000001],\n",
              " [5.999999999999997],\n",
              " [6.000000000000001]]"
            ]
          },
          "metadata": {},
          "execution_count": 171
        }
      ]
    },
    {
      "cell_type": "markdown",
      "source": [
        "# Gaussian Distribution"
      ],
      "metadata": {
        "id": "lJtM_k2KVWpw"
      }
    },
    {
      "cell_type": "code",
      "source": [
        "from scipy.stats import norm\n",
        "import statistics"
      ],
      "metadata": {
        "id": "VqbtHF9uZo0Y"
      },
      "execution_count": null,
      "outputs": []
    },
    {
      "cell_type": "code",
      "source": [
        "x_axis=[]\n",
        "for i in range(0,len(DIA)):\n",
        "  x_axis.append(DIA[i][0])"
      ],
      "metadata": {
        "id": "evrBKUIWajTH"
      },
      "execution_count": null,
      "outputs": []
    },
    {
      "cell_type": "code",
      "source": [
        "mu = statistics.mean(x_axis) \n",
        "sigma = statistics.stdev(x_axis)\n",
        "x1 = min(x_axis)\n",
        "x2 = max(x_axis)"
      ],
      "metadata": {
        "id": "X1oghLxAZr_f"
      },
      "execution_count": null,
      "outputs": []
    },
    {
      "cell_type": "code",
      "source": [
        "# calculate the z-transform\n",
        "z1 = ( x1 - mu ) / sigma\n",
        "z2 = ( x2 - mu ) / sigma"
      ],
      "metadata": {
        "id": "KFWt9WtmZ5nf"
      },
      "execution_count": null,
      "outputs": []
    },
    {
      "cell_type": "code",
      "source": [
        "x = np.arange(z1, z2, 0.001) # range of x in spec\n",
        "x_all = np.arange(-10, 10, 0.001) # entire range of x, both in and out of spec\n",
        "# mean = 0, stddev = 1, since Z-transform was calculated\n",
        "y = norm.pdf(x,0,1)\n",
        "y2 = norm.pdf(x_all,0,1)"
      ],
      "metadata": {
        "id": "E6hxCTRLaA4o"
      },
      "execution_count": null,
      "outputs": []
    },
    {
      "cell_type": "code",
      "source": [
        "# build the plot\n",
        "fig, ax = plt.subplots(figsize=(9,6))\n",
        "plt.style.use('fivethirtyeight')\n",
        "ax.plot(x_all,y2)\n",
        "\n",
        "ax.fill_between(x,y,0, alpha=0.3, color='b')\n",
        "ax.fill_between(x_all,y2,0, alpha=0.1)\n",
        "ax.set_xlim([-4,4])\n",
        "ax.set_xlabel('# of Standard Deviations Outside the Mean')\n",
        "ax.set_yticklabels([])\n",
        "ax.set_title('Normal Gaussian Curve')\n",
        "\n",
        "plt.savefig('normal_curve.png', dpi=72, bbox_inches='tight')\n",
        "plt.show()"
      ],
      "metadata": {
        "colab": {
          "base_uri": "https://localhost:8080/",
          "height": 441
        },
        "id": "rZKMd6ADaOaP",
        "outputId": "f6a886aa-47c9-4591-84b0-e0fd9370f521"
      },
      "execution_count": null,
      "outputs": [
        {
          "output_type": "display_data",
          "data": {
            "image/png": "[encoded data removed]",
            "text/plain": [
              "<Figure size 648x432 with 1 Axes>"
            ]
          },
          "metadata": {}
        }
      ]
    },
    {
      "cell_type": "code",
      "source": [
        "sigma"
      ],
      "metadata": {
        "colab": {
          "base_uri": "https://localhost:8080/"
        },
        "id": "XRYR8CXxblJn",
        "outputId": "bdd8627f-39c2-4257-df73-2d28e7230817"
      },
      "execution_count": null,
      "outputs": [
        {
          "output_type": "execute_result",
          "data": {
            "text/plain": [
              "2.235200005905454e-15"
            ]
          },
          "metadata": {},
          "execution_count": 202
        }
      ]
    },
    {
      "cell_type": "code",
      "source": [
        "format_float = \"{:.2f}\".format(mu)\n",
        "print(\"Final diameter is \",format_float)"
      ],
      "metadata": {
        "id": "yE92cUqLv7Vb",
        "outputId": "5c5c64e6-17f2-42b8-e345-2a25c80be026",
        "colab": {
          "base_uri": "https://localhost:8080/"
        }
      },
      "execution_count": null,
      "outputs": [
        {
          "output_type": "stream",
          "name": "stdout",
          "text": [
            "Final diameter is  6.00\n"
          ]
        }
      ]
    },
    {
      "cell_type": "code",
      "source": [
        ""
      ],
      "metadata": {
        "id": "mZpfDweEwBJt"
      },
      "execution_count": null,
      "outputs": []
    }
  ]
}